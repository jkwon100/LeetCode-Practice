{
 "cells": [
  {
   "cell_type": "markdown",
   "id": "d72f54fe",
   "metadata": {},
   "source": [
    "# Word Search"
   ]
  },
  {
   "cell_type": "markdown",
   "id": "51fde530",
   "metadata": {},
   "source": [
    "## 🧠 Problem Statement\n",
    "\n",
    "Given an `m x n` grid of characters `board` and a string `word`, return `true` *if* `word` *exists in the grid*.\n",
    "\n",
    "The word can be constructed from letters of sequentially adjacent cells, where adjacent cells are horizontally or vertically neighboring. The same letter cell may not be used more than once.\n",
    "\n",
    "\n",
    "\n",
    "**Follow up:** Could you use search pruning to make your solution faster with a larger `board`?\n",
    "\n",
    "---"
   ]
  },
  {
   "cell_type": "markdown",
   "id": "73c8ead5",
   "metadata": {},
   "source": [
    "## 📘 Example(s)\n",
    "\n",
    "![](https://assets.leetcode.com/uploads/2020/11/04/word2.jpg)\n",
    "\n",
    "```\n",
    "\n",
    "Input: board = [[\"A\",\"B\",\"C\",\"E\"],[\"S\",\"F\",\"C\",\"S\"],[\"A\",\"D\",\"E\",\"E\"]], word = \"ABCCED\"\n",
    "Output: true\n",
    "\n",
    "```\n",
    "\n",
    "![](https://assets.leetcode.com/uploads/2020/11/04/word-1.jpg)\n",
    "\n",
    "```\n",
    "\n",
    "Input: board = [[\"A\",\"B\",\"C\",\"E\"],[\"S\",\"F\",\"C\",\"S\"],[\"A\",\"D\",\"E\",\"E\"]], word = \"SEE\"\n",
    "Output: true\n",
    "\n",
    "```\n",
    "\n",
    "![](https://assets.leetcode.com/uploads/2020/10/15/word3.jpg)\n",
    "\n",
    "```\n",
    "\n",
    "Input: board = [[\"A\",\"B\",\"C\",\"E\"],[\"S\",\"F\",\"C\",\"S\"],[\"A\",\"D\",\"E\",\"E\"]], word = \"ABCB\"\n",
    "Output: false\n",
    "\n",
    "```\n",
    "\n",
    "---"
   ]
  },
  {
   "cell_type": "markdown",
   "id": "6a3e45a4",
   "metadata": {},
   "source": [
    "## 📏 Constraints\n",
    "\n",
    "- m == board.length\n",
    "- n = board[i].length\n",
    "- 1 <= m, n <= 6\n",
    "- 1 <= word.length <= 15 \n",
    "- board and word consists of only lowercase and uppercase English letters. \n",
    "\n",
    "---"
   ]
  },
  {
   "cell_type": "markdown",
   "id": "2442f63f",
   "metadata": {},
   "source": [
    "## 💭 My Analysis\n",
    "\n",
    "-I'll implement a recursive helper function search(row, col, direction, remaining) with the following plan:\n",
    "Parameters:\n",
    "row, col: current cell position\n",
    "direction: the previous direction taken (\"up\", \"down\", \"left\", \"right\")\n",
    "remaining: the portion of the word yet to be matched\n",
    "Core logic:\n",
    "If remaining is empty, return True → we matched the whole word!\n",
    "Prune by:\n",
    "Returning False if out of bounds\n",
    "Returning False if the current cell has already been visited\n",
    "Returning False if the current character doesn’t match\n",
    "Otherwise:\n",
    "Mark (row, col) as visited\n",
    "Recursively explore all 4 directions (excluding backtracking to the last direction)\n",
    "After recursion, unmark (row, col) to allow future paths to reuse it\n",
    "Visited tracking:\n",
    "Use a set or dict (e.g., visited[(row, col)] = True) to prevent cycles or reusing the same cell in one path.\n",
    "Return:\n",
    "If any recursive call returns True, bubble it up\n",
    "Otherwise, backtrack and continue\n",
    "\n",
    "---"
   ]
  },
  {
   "cell_type": "markdown",
   "id": "ac5e96fc",
   "metadata": {},
   "source": [
    "## 🛠️ Attempt(s)"
   ]
  },
  {
   "cell_type": "code",
   "execution_count": 10,
   "id": "737d7949",
   "metadata": {
    "tags": []
   },
   "outputs": [
    {
     "ename": "IndentationError",
     "evalue": "expected an indented block after 'if' statement on line 29 (3390146412.py, line 32)",
     "output_type": "error",
     "traceback": [
      "\u001b[1;36m  Cell \u001b[1;32mIn[10], line 32\u001b[1;36m\u001b[0m\n\u001b[1;33m    elif direction == \"left\": # came from left, search up, right, down\u001b[0m\n\u001b[1;37m    ^\u001b[0m\n\u001b[1;31mIndentationError\u001b[0m\u001b[1;31m:\u001b[0m expected an indented block after 'if' statement on line 29\n"
     ]
    }
   ],
   "source": [
    "class Solution:\n",
    "    \n",
    "    def exist(self, board: List[List[str]], word: str) -> bool:\n",
    "        for row in range(len(board)):\n",
    "            for col in range(len(board[0])):\n",
    "                visited = {}\n",
    "                if search(board, row, col, \"left\", word):\n",
    "                    return True\n",
    "        return False\n",
    "                \n",
    "                \n",
    "                \n",
    "                \n",
    "                \n",
    "                \n",
    "                \n",
    "    def search(board: List[List[str]], row: int, col:int, direction:str, remaining:str) -> bool:\n",
    "        if len(remaining) == 0:\n",
    "            return True\n",
    "        ch = remaining[0]\n",
    "\n",
    "        row_up = row-1\n",
    "        row_down = row+1\n",
    "        col_left = col-1\n",
    "        col_right = col+1\n",
    "        \n",
    "        if board[row][col] == ch:\n",
    "            if direction == \"up\": # came from up, search left, right, down\n",
    "                if check(board, row, col_left, ch): #check left\n",
    "                    if search(board, row, col_left, remaining[1:]):\n",
    "                        True\n",
    "                \n",
    "                \n",
    "            elif direction == \"left\": # came from left, search up, right, down\n",
    "            \n",
    "            \n",
    "            elif direction == \"right\": # came from left, search up, right, down\n",
    "            \n",
    "            \n",
    "            elif direction == \"down\": # came from left, search up, right, down\n",
    "                \n",
    "    def check(board: List[List[str]], row: int, col:int, ch:str) -> bool:\n",
    "        return ch == board[row][col]\n",
    "                \n",
    "                \n",
    "                \n",
    "        return False    \n",
    "        "
   ]
  },
  {
   "cell_type": "code",
   "execution_count": 11,
   "id": "4c7ed873-fdbf-40b8-8e6f-d8a0d00b5ce9",
   "metadata": {
    "tags": []
   },
   "outputs": [],
   "source": [
    "from typing import List\n",
    "\n",
    "class Solution:\n",
    "    def exist(self, board: List[List[str]], word: str) -> bool:\n",
    "        rows, cols = len(board), len(board[0])\n",
    "\n",
    "        for row in range(rows):\n",
    "            for col in range(cols):\n",
    "                visited = set()\n",
    "                if self.search(board, row, col, word, visited):\n",
    "                    return True\n",
    "        return False\n",
    "\n",
    "    def search(self, board: List[List[str]], row: int, col: int, remaining: str, visited: set) -> bool:\n",
    "        if len(remaining) == 0:\n",
    "            return True\n",
    "\n",
    "        # Bounds and visited check\n",
    "        if (\n",
    "            row < 0 or row >= len(board) or\n",
    "            col < 0 or col >= len(board[0]) or\n",
    "            (row, col) in visited or\n",
    "            board[row][col] != remaining[0]\n",
    "        ):\n",
    "            return False\n",
    "\n",
    "        # Mark current cell as visited\n",
    "        visited.add((row, col))\n",
    "\n",
    "        # Explore all 4 directions\n",
    "        if (\n",
    "            self.search(board, row + 1, col, remaining[1:], visited) or\n",
    "            self.search(board, row - 1, col, remaining[1:], visited) or\n",
    "            self.search(board, row, col + 1, remaining[1:], visited) or\n",
    "            self.search(board, row, col - 1, remaining[1:], visited)\n",
    "        ):\n",
    "            return True\n",
    "\n",
    "        # Backtrack\n",
    "        visited.remove((row, col))\n",
    "        return False\n"
   ]
  },
  {
   "cell_type": "markdown",
   "id": "2369bf29",
   "metadata": {},
   "source": [
    "## 🧪 Test Cases"
   ]
  },
  {
   "cell_type": "code",
   "execution_count": 13,
   "id": "fd29dced",
   "metadata": {
    "tags": []
   },
   "outputs": [
    {
     "name": "stdout",
     "output_type": "stream",
     "text": [
      "✅ Test 1 passed | Input: {'board': [['A', 'B', 'C', 'E'], ['S', 'F', 'C', 'S'], ['A', 'D', 'E', 'E']], 'word': 'ABCCED'} → Output: True\n",
      "✅ Test 2 passed | Input: {'board': [['A', 'B', 'C', 'E'], ['S', 'F', 'E', 'S'], ['A', 'D', 'E', 'E']], 'word': 'SEE'} → Output: True\n",
      "✅ Test 3 passed | Input: {'board': [['A', 'B', 'C', 'E'], ['S', 'F', 'C', 'S'], ['A', 'D', 'E', 'E']], 'word': 'ABCB'} → Output: False\n",
      "✅ Test 4 passed | Input: {'board': [['A']], 'word': 'A'} → Output: True\n",
      "✅ Test 5 passed | Input: {'board': [['A']], 'word': 'AB'} → Output: False\n",
      "✅ Test 6 passed | Input: {'board': [['C', 'A', 'A'], ['A', 'A', 'A'], ['B', 'C', 'D']], 'word': 'AAB'} → Output: True\n",
      "✅ Test 7 passed | Input: {'board': [['A', 'B'], ['C', 'D']], 'word': 'ABCD'} → Output: False\n",
      "✅ Test 8 passed | Input: {'board': [['A', 'B'], ['C', 'D']], 'word': 'ACDB'} → Output: True\n",
      "🎉 All tests passed!\n"
     ]
    }
   ],
   "source": [
    "def _run_auto_tests(func):\n",
    "    tests = [\n",
    "        # ✅ Word exists (normal case)\n",
    "        ({\"board\": [[\"A\",\"B\",\"C\",\"E\"],\n",
    "                    [\"S\",\"F\",\"C\",\"S\"],\n",
    "                    [\"A\",\"D\",\"E\",\"E\"]],\n",
    "          \"word\": \"ABCCED\"}, True),\n",
    "\n",
    "        # ✅ Word exists (downward path)\n",
    "        ({\"board\": [[\"A\",\"B\",\"C\",\"E\"],\n",
    "                    [\"S\",\"F\",\"E\",\"S\"],\n",
    "                    [\"A\",\"D\",\"E\",\"E\"]],\n",
    "          \"word\": \"SEE\"}, True),\n",
    "\n",
    "        # ❌ Word doesn't exist (reuses a cell)\n",
    "        ({\"board\": [[\"A\",\"B\",\"C\",\"E\"],\n",
    "                    [\"S\",\"F\",\"C\",\"S\"],\n",
    "                    [\"A\",\"D\",\"E\",\"E\"]],\n",
    "          \"word\": \"ABCB\"}, False),\n",
    "\n",
    "        # ✅ Word is single letter and matches\n",
    "        ({\"board\": [[\"A\"]], \"word\": \"A\"}, True),\n",
    "\n",
    "        # ❌ Word is longer than board allows\n",
    "        ({\"board\": [[\"A\"]], \"word\": \"AB\"}, False),\n",
    "\n",
    "        # ✅ Complex zigzag path\n",
    "        ({\"board\": [[\"C\",\"A\",\"A\"],\n",
    "                    [\"A\",\"A\",\"A\"],\n",
    "                    [\"B\",\"C\",\"D\"]],\n",
    "          \"word\": \"AAB\"}, True),\n",
    "\n",
    "        # ✅ Full board word match\n",
    "        ({\"board\": [[\"A\",\"B\"],[\"C\",\"D\"]], \"word\": \"ABCD\"}, False),  # diagonal, invalid\n",
    "\n",
    "        # ✅ Word uses all letters but not revisiting\n",
    "        ({\"board\": [[\"A\",\"B\"],[\"C\",\"D\"]], \"word\": \"ACDB\"}, True),\n",
    "    ]\n",
    "\n",
    "    all_passed = True\n",
    "    for i, (kw, expected) in enumerate(tests, 1):\n",
    "        try:\n",
    "            result = func(**kw) if isinstance(kw, dict) else func(kw)\n",
    "            if result == expected:\n",
    "                print(f'✅ Test {i} passed | Input: {kw} → Output: {result}')\n",
    "            else:\n",
    "                print(f'❌ Test {i} failed')\n",
    "                print(f'   Input:    {kw}')\n",
    "                print(f'   Expected: {expected}')\n",
    "                print(f'   Got:      {result}')\n",
    "                all_passed = False\n",
    "        except Exception as e:\n",
    "            print(f'❌ Test {i} crashed with exception: {e}')\n",
    "            print(f'   Input: {kw}')\n",
    "            all_passed = False\n",
    "    print('🎉 All tests passed!' if all_passed else '⚠ Some tests failed.')\n",
    "\n",
    "_run_auto_tests(Solution().exist)\n"
   ]
  },
  {
   "cell_type": "markdown",
   "id": "123df837",
   "metadata": {},
   "source": [
    "## ✅ Final Version"
   ]
  },
  {
   "cell_type": "code",
   "execution_count": null,
   "id": "3313a91b",
   "metadata": {},
   "outputs": [],
   "source": [
    "class Solution:\n",
    "    def exist(self, board: List[List[str]], word: str) -> bool:\n",
    "        "
   ]
  },
  {
   "cell_type": "markdown",
   "id": "bef7e88e",
   "metadata": {},
   "source": [
    "## 🧵 Time/Space Complexity\n",
    "\n",
    "- Time: \n",
    "- Space: "
   ]
  }
 ],
 "metadata": {
  "kernelspec": {
   "display_name": "Python 3 (ipykernel)",
   "language": "python",
   "name": "python3"
  },
  "language_info": {
   "codemirror_mode": {
    "name": "ipython",
    "version": 3
   },
   "file_extension": ".py",
   "mimetype": "text/x-python",
   "name": "python",
   "nbconvert_exporter": "python",
   "pygments_lexer": "ipython3",
   "version": "3.11.4"
  }
 },
 "nbformat": 4,
 "nbformat_minor": 5
}
