{
 "cells": [
  {
   "cell_type": "markdown",
   "id": "47c521b0",
   "metadata": {},
   "source": [
    "# Top K Frequent Elements"
   ]
  },
  {
   "cell_type": "markdown",
   "id": "88195798",
   "metadata": {},
   "source": [
    "## 🧠 Problem Statement\n",
    "\n",
    "Given an integer array `nums` and an integer `k`, return *the* `k` *most frequent elements*. You may return the answer in **any order**.\n",
    "\n",
    "\n",
    "**Follow up:** Your algorithm's time complexity must be better than `O(n log n)`, where n is the array's size.\n",
    "\n",
    "---"
   ]
  },
  {
   "cell_type": "markdown",
   "id": "1e4bc580",
   "metadata": {},
   "source": [
    "## 📘 Example(s)\n",
    "\n",
    "```\n",
    "Input: nums = [1,1,1,2,2,3], k = 2\n",
    "Output: [1,2]\n",
    "\n",
    "```\n",
    "\n",
    "```\n",
    "Input: nums = [1], k = 1\n",
    "Output: [1]\n",
    "\n",
    "```\n",
    "\n",
    "---"
   ]
  },
  {
   "cell_type": "markdown",
   "id": "b5997b22",
   "metadata": {},
   "source": [
    "## 📏 Constraints\n",
    "- 1 <= nums.length <= 10 5\n",
    "- -10 4 <= nums[i] <= 10 4\n",
    "- k is in the range [1, the number of unique elements in the array] .\n",
    "- It is guaranteed that the answer is unique .\n",
    "---"
   ]
  },
  {
   "cell_type": "markdown",
   "id": "e66b6620",
   "metadata": {},
   "source": [
    "## 💭 My Analysis\n",
    "\n",
    "I will use a **hashmap** to count the frequency of each element in `nums` where:\n",
    "- **key** = element\n",
    "- **value** = frequency count\n",
    "\n",
    "After building the frequency map:\n",
    "- I will maintain a **result list** of size `k` to store the top `k` frequent elements.\n",
    "- For each element in the frequency map, I'll check if the result list has room.\n",
    "  - If so, add the element.\n",
    "  - If not, I’ll traverse the result list to find if any stored element has a **lower frequency**, and replace it.\n",
    "- To get the frequency of an element in the result list, I'll reference the frequency hashmap.\n",
    "\n",
    "Finally, I will return the result list."
   ]
  },
  {
   "cell_type": "markdown",
   "id": "41a483a2",
   "metadata": {},
   "source": [
    "## 🛠️ Attempt(s)"
   ]
  },
  {
   "cell_type": "code",
   "execution_count": 1,
   "id": "5833bc8d",
   "metadata": {
    "tags": []
   },
   "outputs": [],
   "source": [
    "from typing import List\n",
    "class Solution:\n",
    "    def topKFrequent(self, nums: List[int], k: int) -> List[int]:\n",
    "        freq = {} #element : frequency\n",
    "        res = [0] * k\n",
    "        freq[0] = 0\n",
    "        for num in nums:\n",
    "            if num in freq:\n",
    "                freq[num] += 1\n",
    "            else:\n",
    "                freq[num] = 1\n",
    "            for i in range(len(res)):\n",
    "                if res[i] == num:\n",
    "                    break\n",
    "                elif freq[res[i]] < freq[num]:\n",
    "                    res[i] = num\n",
    "                    break\n",
    "        return res\n",
    "        \n",
    "        \n",
    "        \n",
    "        \n",
    "        \n",
    "        "
   ]
  },
  {
   "cell_type": "code",
   "execution_count": 2,
   "id": "dbad974a-6220-4c65-9f2e-29b897b3a89f",
   "metadata": {},
   "outputs": [],
   "source": [
    "\n",
    "\n",
    "class Solution:\n",
    "    def topKFrequent(self, nums: List[int], k: int) -> List[int]:\n",
    "        freq = {}  # element : frequency\n",
    "        res = [0] * k\n",
    "\n",
    "        # Step 1: Count frequencies\n",
    "        for num in nums:\n",
    "            if num in freq:\n",
    "                freq[num] += 1\n",
    "            else:\n",
    "                freq[num] = 1\n",
    "\n",
    "        # Step 2: Sort elements by frequency, descending\n",
    "        sorted_elements = sorted(freq.items(), key=lambda x: x[1], reverse=True)\n",
    "\n",
    "        # Step 3: Fill res with top k elements\n",
    "        for i in range(k):\n",
    "            res[i] = sorted_elements[i][0]\n",
    "\n",
    "        return res\n"
   ]
  },
  {
   "cell_type": "markdown",
   "id": "29993f5c",
   "metadata": {},
   "source": [
    "## 🧪 Test Cases"
   ]
  },
  {
   "cell_type": "code",
   "execution_count": 3,
   "id": "82b35dd9",
   "metadata": {
    "tags": []
   },
   "outputs": [],
   "source": [
    "def _run_auto_tests(func): \n",
    "    tests = [\n",
    "        ({\"nums\": [1,1,1,2,2,3], \"k\": 2}, [1, 2]),\n",
    "        ({\"nums\": [1], \"k\": 1}, [1]),\n",
    "        ({\"nums\": [1,2,2,3,3,3], \"k\": 3}, [3, 2, 1]),\n",
    "        ({\"nums\": [4,5,6,7], \"k\": 2}, [4, 5]),\n",
    "        ({\"nums\": [8,8,8,8], \"k\": 1}, [8]),\n",
    "        ({\"nums\": [9]*100 + [1,2,3,4], \"k\": 1}, [9]),\n",
    "        ({\"nums\": [1,2,3,4], \"k\": 2}, [1, 2]),\n",
    "    ]\n",
    "\n",
    "    all_passed = True\n",
    "    for i, (kw, expected) in enumerate(tests, 1):\n",
    "        try:\n",
    "            result = func(**kw) if isinstance(kw, dict) else func(kw)\n",
    "            if sorted(result) == sorted(expected):  # ✅ Allow any order\n",
    "                print(f'✅ Test {i} passed | Input: {kw} → Output: {result}')\n",
    "            else:\n",
    "                print(f'❌ Test {i} failed')\n",
    "                print(f'   Input:    {kw}')\n",
    "                print(f'   Expected: {expected}')\n",
    "                print(f'   Got:      {result}')\n",
    "                all_passed = False\n",
    "        except Exception as e:\n",
    "            print(f'❌ Test {i} crashed with exception: {e}')\n",
    "            print(f'   Input: {kw}')\n",
    "            all_passed = False\n",
    "    print('🎉 All tests passed!' if all_passed else '⚠ Some tests failed.')\n"
   ]
  },
  {
   "cell_type": "markdown",
   "id": "e46d3fc3",
   "metadata": {},
   "source": [
    "## ✅ Final Version"
   ]
  },
  {
   "cell_type": "code",
   "execution_count": 4,
   "id": "ed53cc70",
   "metadata": {},
   "outputs": [],
   "source": [
    "class Solution:\n",
    "    def topKFrequent(self, nums: List[int], k: int) -> List[int]:\n",
    "        freq = {}  # element : frequency\n",
    "        res = [0] * k\n",
    "\n",
    "        # Step 1: Count frequencies\n",
    "        for num in nums:\n",
    "            if num in freq:\n",
    "                freq[num] += 1\n",
    "            else:\n",
    "                freq[num] = 1\n",
    "\n",
    "        # Step 2: Sort elements by frequency, descending\n",
    "        sorted_elements = sorted(freq.items(), key=lambda x: x[1], reverse=True)\n",
    "\n",
    "        # Step 3: Fill res with top k elements\n",
    "        for i in range(k):\n",
    "            res[i] = sorted_elements[i][0]\n",
    "\n",
    "        return res"
   ]
  },
  {
   "cell_type": "markdown",
   "id": "878a47ad",
   "metadata": {},
   "source": [
    "## 🧵 Time/Space Complexity\n",
    "\n",
    "- Time: \n",
    "- Space: "
   ]
  }
 ],
 "metadata": {
  "kernelspec": {
   "display_name": "Python 3 (ipykernel)",
   "language": "python",
   "name": "python3"
  },
  "language_info": {
   "codemirror_mode": {
    "name": "ipython",
    "version": 3
   },
   "file_extension": ".py",
   "mimetype": "text/x-python",
   "name": "python",
   "nbconvert_exporter": "python",
   "pygments_lexer": "ipython3",
   "version": "3.11.4"
  }
 },
 "nbformat": 4,
 "nbformat_minor": 5
}
