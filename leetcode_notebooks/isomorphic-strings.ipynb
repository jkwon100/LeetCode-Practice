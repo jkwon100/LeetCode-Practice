{
 "cells": [
  {
   "cell_type": "markdown",
   "id": "88afb8f6",
   "metadata": {},
   "source": [
    "# Isomorphic Strings"
   ]
  },
  {
   "cell_type": "markdown",
   "id": "412472f4",
   "metadata": {},
   "source": [
    "## 🧠 Problem Statement\n",
    "\n",
    "Given two strings `s` and `t`, *determine if they are isomorphic*.\n",
    "\n",
    "Two strings `s` and `t` are isomorphic if the characters in `s` can be replaced to get `t`.\n",
    "\n",
    "All occurrences of a character must be replaced with another character while preserving the order of characters. No two characters may map to the same character, but a character may map to itself.\n",
    "\n",
    "---"
   ]
  },
  {
   "cell_type": "markdown",
   "id": "b2a6c62b",
   "metadata": {},
   "source": [
    "## 📘 Example(s)\n",
    "\n",
    "```python\n",
    "Input: s = \"egg\", t = \"add\"\n",
    "Output: true\n",
    "\n",
    "Input: s = \"foo\", t = \"bar\"\n",
    "Output: false\n",
    "\n",
    "Input: s = \"paper\", t = \"title\"\n",
    "Output: true\n",
    "```\n",
    "\n",
    "---"
   ]
  },
  {
   "cell_type": "markdown",
   "id": "def5d3cf",
   "metadata": {},
   "source": [
    "## 📏 Constraints\n",
    "\n",
    "- \n",
    "- 1 <= s.length <= 5 * 10 4\n",
    "- \n",
    "- t.length == s.length\n",
    "- \n",
    "- s and t consist of any valid ascii character.\n",
    "- \n",
    "\n",
    "---"
   ]
  },
  {
   "cell_type": "markdown",
   "id": "a96b4954",
   "metadata": {},
   "source": [
    "## 💭 My Analysis\n",
    "\n",
    "Length Check:\n",
    "First, I’ll check if the lengths of the two strings are equal. If not, they can’t be isomorphic, so I’ll return false.\n",
    "\n",
    "Mapping Characters with Hashes:\n",
    "I’ll use a hash map to store the mapping from characters in s to characters in t.\n",
    "To ensure no two characters in s map to the same character in t, I’ll also use a set to track already-mapped characters from t.\n",
    "\n",
    "Tracking Uniqueness:\n",
    "I’ll increment a counter each time I map a new character in s to a new character in t.\n",
    "If the total number of unique mappings from both strings matches (one-to-one), then the strings are isomorphic.\n",
    "\n",
    "Final Comparison:\n",
    "If the mapping is consistent and the set of mapped characters has the same count as the mapping entries, I’ll return true. Otherwise, return false.\n",
    "\n",
    "---"
   ]
  },
  {
   "cell_type": "markdown",
   "id": "a7c68227",
   "metadata": {},
   "source": [
    "## 🛠️ Attempt(s)"
   ]
  },
  {
   "cell_type": "code",
   "execution_count": 1,
   "id": "f865cf0d",
   "metadata": {},
   "outputs": [],
   "source": [
    "class Solution:\n",
    "    def isIsomorphic(self, s: str, t: str) -> bool:\n",
    "        if len(s) is not len(t): return False\n",
    "        return unique_char(s) is unique_char(t)\n",
    "    \n",
    "    def unique_char(s: str) -> int:\n",
    "        result = 0\n",
    "        char_map = {}\n",
    "        for i in range(len(s)):\n",
    "            c1 = s[i]\n",
    "            if c1 not in char_map:\n",
    "                result += 1\n",
    "        return result"
   ]
  },
  {
   "cell_type": "code",
   "execution_count": 2,
   "id": "e71ff5b6-4386-4f76-b47a-67a12e19a345",
   "metadata": {},
   "outputs": [],
   "source": [
    "class Solution:\n",
    "    def isIsomorphic(self, s: str, t: str) -> bool:\n",
    "        if len(s) != len(t):\n",
    "            return False\n",
    "        return self.unique_char(s) == self.unique_char(t)\n",
    "\n",
    "    def unique_char(self, s: str) -> int:\n",
    "        result = 0\n",
    "        char_map = {}\n",
    "        for c in s:\n",
    "            if c not in char_map:\n",
    "                char_map[c] = True\n",
    "                result += 1\n",
    "        return result"
   ]
  },
  {
   "cell_type": "markdown",
   "id": "0e774a84-e22f-4365-a918-dcd3fa21a6aa",
   "metadata": {},
   "source": [
    "## Mistake\n",
    "Assumed: “same number of unique characters ⇒ isomorphic.”\n",
    "Isomorphism needs a one-to-one, consistent mapping, not just counts.\n",
    "\n",
    "Failing case\n",
    "s = \"bbbaaaba\"\n",
    "t = \"aaabbbba\"\n",
    "Both have {a,b}, yet mappings break:\n",
    "b→a, a→b, later a→a → inconsistent.\n",
    "\n",
    "Why it fails:\n",
    "No mapping consistency check\n",
    "\n",
    "No injectivity (two s chars mapping to same t char)\n",
    "\n",
    "Fix (conceptual)\n",
    "hashmap s_char → t_char for consistency\n",
    "\n",
    "set of used t_char for injectivity"
   ]
  },
  {
   "cell_type": "code",
   "execution_count": 7,
   "id": "e1a93edb-b5d7-4846-81b8-ac4341c3fe0c",
   "metadata": {
    "tags": []
   },
   "outputs": [],
   "source": [
    "class Solution:\n",
    "    def isIsomorphic(self, s: str, t: str) -> bool:\n",
    "        if len(s) != len(t):\n",
    "            return False\n",
    "        hashmap = {}\n",
    "        \n",
    "        for i in range(len(s)):\n",
    "            sChar = s[i]\n",
    "            tChar = t[i]\n",
    "            \n",
    "            if sChar not in hashmap:\n",
    "                if tChar not in hashmap.values():\n",
    "                    hashmap.update({sChar:tChar})\n",
    "                else:\n",
    "                    return False\n",
    "            elif hashmap.get(sChar) != tChar:\n",
    "                return False\n",
    "        return True"
   ]
  },
  {
   "cell_type": "markdown",
   "id": "ad04cf09",
   "metadata": {},
   "source": [
    "## 🧪 Test Cases"
   ]
  },
  {
   "cell_type": "code",
   "execution_count": 8,
   "id": "75d55937",
   "metadata": {
    "tags": []
   },
   "outputs": [
    {
     "name": "stdout",
     "output_type": "stream",
     "text": [
      "✅ Test 1 passed | Input: {'s': 'egg', 't': 'add'} → Output: True\n",
      "✅ Test 2 passed | Input: {'s': 'foo', 't': 'bar'} → Output: False\n",
      "✅ Test 3 passed | Input: {'s': 'paper', 't': 'title'} → Output: True\n",
      "✅ Test 4 passed | Input: {'s': 'bbbaaaba', 't': 'aaabbbba'} → Output: False\n",
      "🎉 All tests passed!\n"
     ]
    }
   ],
   "source": [
    "def _run_auto_tests(func):\n",
    "    tests = [\n",
    "        ({'s': 'egg', 't': 'add'}, True),\n",
    "        ({'s': 'foo', 't': 'bar'}, False),\n",
    "        ({'s': 'paper', 't': 'title'}, True),\n",
    "        ({'s': 'bbbaaaba', 't': 'aaabbbba'}, False),\n",
    "    ]\n",
    "    all_passed = True\n",
    "    for i, (kw, expected) in enumerate(tests, 1):\n",
    "        try:\n",
    "            result = func(**kw) if isinstance(kw, dict) else func(kw)\n",
    "            if result == expected:\n",
    "                print(f'✅ Test {i} passed | Input: {kw} → Output: {result}')\n",
    "            else:\n",
    "                print(f'❌ Test {i} failed')\n",
    "                print(f'   Input:    {kw}')\n",
    "                print(f'   Expected: {expected}')\n",
    "                print(f'   Got:      {result}')\n",
    "                all_passed = False\n",
    "        except Exception as e:\n",
    "            print(f'❌ Test {i} crashed with exception: {e}')\n",
    "            print(f'   Input: {kw}')\n",
    "            all_passed = False\n",
    "    print('🎉 All tests passed!' if all_passed else '⚠ Some tests failed.')\n",
    "\n",
    "_run_auto_tests(Solution().isIsomorphic)"
   ]
  },
  {
   "cell_type": "markdown",
   "id": "f4ccf977",
   "metadata": {},
   "source": [
    "## ✅ Final Version"
   ]
  },
  {
   "cell_type": "code",
   "execution_count": 6,
   "id": "6915dd09",
   "metadata": {},
   "outputs": [],
   "source": [
    "class Solution:\n",
    "    def isIsomorphic(self, s: str, t: str) -> bool:\n",
    "        if len(s) != len(t):\n",
    "            return False\n",
    "        hashmap = {}\n",
    "        \n",
    "        for i in range(len(s)):\n",
    "            sChar = s[i]\n",
    "            tChar = t[i]\n",
    "            \n",
    "            if sChar not in hashmap:\n",
    "                if tChar not in hashmap.values():\n",
    "                    hashmap.update({sChar:tChar})\n",
    "                else:\n",
    "                    return False\n",
    "            elif hashmap.get(sChar) != tChar:\n",
    "                return False\n",
    "        return True"
   ]
  },
  {
   "cell_type": "markdown",
   "id": "fb3a6fcc",
   "metadata": {},
   "source": [
    "## 🧵 Time/Space Complexity\n",
    "\n",
    "- Time: O(n)\n",
    "- Space: O(n)"
   ]
  }
 ],
 "metadata": {
  "kernelspec": {
   "display_name": "Python 3 (ipykernel)",
   "language": "python",
   "name": "python3"
  },
  "language_info": {
   "codemirror_mode": {
    "name": "ipython",
    "version": 3
   },
   "file_extension": ".py",
   "mimetype": "text/x-python",
   "name": "python",
   "nbconvert_exporter": "python",
   "pygments_lexer": "ipython3",
   "version": "3.11.4"
  }
 },
 "nbformat": 4,
 "nbformat_minor": 5
}
