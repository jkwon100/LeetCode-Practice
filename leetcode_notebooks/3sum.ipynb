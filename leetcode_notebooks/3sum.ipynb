{
 "cells": [
  {
   "cell_type": "markdown",
   "id": "552bfa96",
   "metadata": {},
   "source": [
    "# 3Sum"
   ]
  },
  {
   "cell_type": "markdown",
   "id": "85b65ee2",
   "metadata": {},
   "source": [
    "## 🧠 Problem Statement\n",
    "\n",
    "Given an integer array nums, return all the triplets `[nums[i], nums[j], nums[k]]` such that `i != j`, `i != k`, and `j != k`, and `nums[i] + nums[j] + nums[k] == 0`.\n",
    "\n",
    "Notice that the solution set must not contain duplicate triplets.\n",
    "\n",
    "---"
   ]
  },
  {
   "cell_type": "markdown",
   "id": "8e5685fb",
   "metadata": {
    "jp-MarkdownHeadingCollapsed": true,
    "tags": []
   },
   "source": [
    "## 📘 Example(s)\n",
    "\n",
    "```\n",
    "\n",
    "Input: nums = [-1,0,1,2,-1,-4]\n",
    "Output: [[-1,-1,2],[-1,0,1]]\n",
    "Explanation: \n",
    "nums[0] + nums[1] + nums[2] = (-1) + 0 + 1 = 0.\n",
    "nums[1] + nums[2] + nums[4] = 0 + 1 + (-1) = 0.\n",
    "nums[0] + nums[3] + nums[4] = (-1) + 2 + (-1) = 0.\n",
    "The distinct triplets are [-1,0,1] and [-1,-1,2].\n",
    "Notice that the order of the output and the order of the triplets does not matter.\n",
    "\n",
    "```\n",
    "\n",
    "```\n",
    "\n",
    "Input: nums = [0,1,1]\n",
    "Output: []\n",
    "Explanation: The only possible triplet does not sum up to 0.\n",
    "\n",
    "```\n",
    "\n",
    "```\n",
    "\n",
    "Input: nums = [0,0,0]\n",
    "Output: [[0,0,0]]\n",
    "Explanation: The only possible triplet sums up to 0.\n",
    "\n",
    "```\n",
    "---"
   ]
  },
  {
   "cell_type": "markdown",
   "id": "61eff954",
   "metadata": {},
   "source": [
    "## 📏 Constraints\n",
    "\n",
    "- 3 <= nums.length <= 3000\n",
    "- -10 5 <= nums[i] <= 10 5\n",
    "---"
   ]
  },
  {
   "cell_type": "markdown",
   "id": "3b901f54",
   "metadata": {},
   "source": [
    "## 💭 My Analysis\n",
    "\n",
    "I'm going to traverse the list using a for loop. While doing so:\n",
    "I’ll maintain a seen set to keep track of values I've already encountered.\n",
    "For each number, I'll look for a pair such that the third number (target - num1 - num2) exists in the seen set.\n",
    "If such a value is found, I’ll add the triplet to the result.\n",
    "This helps avoid redundant nested loops and reduces unnecessary checks.\n",
    "This approach combines iteration and set-based lookup to efficiently find valid triplets that sum to zero.\n",
    "---"
   ]
  },
  {
   "cell_type": "markdown",
   "id": "1a9b831b",
   "metadata": {},
   "source": [
    "## 🛠️ Attempt(s)"
   ]
  },
  {
   "cell_type": "code",
   "execution_count": 2,
   "id": "f2b802ad",
   "metadata": {
    "tags": []
   },
   "outputs": [
    {
     "ename": "SyntaxError",
     "evalue": "invalid syntax (973308657.py, line 6)",
     "output_type": "error",
     "traceback": [
      "\u001b[1;36m  Cell \u001b[1;32mIn[2], line 6\u001b[1;36m\u001b[0m\n\u001b[1;33m    for j in range(i+1:len(nums))\u001b[0m\n\u001b[1;37m                      ^\u001b[0m\n\u001b[1;31mSyntaxError\u001b[0m\u001b[1;31m:\u001b[0m invalid syntax\n"
     ]
    }
   ],
   "source": [
    "class Solution:\n",
    "    def threeSum(self, nums: List[int]) -> List[List[int]]:\n",
    "        seen = set()\n",
    "        \n",
    "        for i in range(len(nums)-1):\n",
    "            for j in range(i+1:len(nums))\n",
    "                if nums[j] not in seen:\n",
    "                    seen.add(\n",
    "        \n",
    "        \n",
    "        \n",
    "        \n",
    "        \n",
    "        \n",
    "        "
   ]
  },
  {
   "cell_type": "markdown",
   "id": "38aed2d8",
   "metadata": {},
   "source": [
    "## 🧪 Test Cases"
   ]
  },
  {
   "cell_type": "code",
   "execution_count": null,
   "id": "e4d3c9ed",
   "metadata": {},
   "outputs": [],
   "source": [
    "def _run_auto_tests(func):\n",
    "    tests = [\n",
    "    ]\n",
    "    all_passed = True\n",
    "    for i, (kw, expected) in enumerate(tests, 1):\n",
    "        try:\n",
    "            result = func(**kw) if isinstance(kw, dict) else func(kw)\n",
    "            if result == expected:\n",
    "                print(f'✅ Test {i} passed | Input: {kw} → Output: {result}')\n",
    "            else:\n",
    "                print(f'❌ Test {i} failed')\n",
    "                print(f'   Input:    {kw}')\n",
    "                print(f'   Expected: {expected}')\n",
    "                print(f'   Got:      {result}')\n",
    "                all_passed = False\n",
    "        except Exception as e:\n",
    "            print(f'❌ Test {i} crashed with exception: {e}')\n",
    "            print(f'   Input: {kw}')\n",
    "            all_passed = False\n",
    "    print('🎉 All tests passed!' if all_passed else '⚠ Some tests failed.')\n",
    "\n",
    "_run_auto_tests(Solution().threeSum)"
   ]
  },
  {
   "cell_type": "markdown",
   "id": "871cf956",
   "metadata": {},
   "source": [
    "## ✅ Final Version"
   ]
  },
  {
   "cell_type": "code",
   "execution_count": null,
   "id": "1b4bf7cd",
   "metadata": {},
   "outputs": [],
   "source": [
    "class Solution:\n",
    "    def threeSum(self, nums: List[int]) -> List[List[int]]:\n",
    "        "
   ]
  },
  {
   "cell_type": "markdown",
   "id": "3218f73c",
   "metadata": {},
   "source": [
    "## 🧵 Time/Space Complexity\n",
    "\n",
    "- Time: \n",
    "- Space: "
   ]
  }
 ],
 "metadata": {
  "kernelspec": {
   "display_name": "Python 3 (ipykernel)",
   "language": "python",
   "name": "python3"
  },
  "language_info": {
   "codemirror_mode": {
    "name": "ipython",
    "version": 3
   },
   "file_extension": ".py",
   "mimetype": "text/x-python",
   "name": "python",
   "nbconvert_exporter": "python",
   "pygments_lexer": "ipython3",
   "version": "3.11.4"
  }
 },
 "nbformat": 4,
 "nbformat_minor": 5
}
