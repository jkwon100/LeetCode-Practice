{
 "cells": [
  {
   "cell_type": "markdown",
   "id": "c3b91f38",
   "metadata": {},
   "source": [
    "# Reverse Words in a String"
   ]
  },
  {
   "cell_type": "markdown",
   "id": "e11003b9",
   "metadata": {},
   "source": [
    "## 🧠 Problem Statement\n",
    "\n",
    "Given an input string `s`, reverse the order of the **words**.\n",
    "\n",
    "A **word** is defined as a sequence of non-space characters. The **words** in `s` will be separated by at least one space.\n",
    "\n",
    "Return *a string of the words in reverse order concatenated by a single space.*\n",
    "\n",
    "**Note** that `s` may contain leading or trailing spaces or multiple spaces between two words. The returned string should only have a single space separating the words. Do not include any extra spaces.\n",
    "\n",
    "\n",
    "---"
   ]
  },
  {
   "cell_type": "markdown",
   "id": "ee93491b",
   "metadata": {},
   "source": [
    "## 📘 Example(s)\n",
    "\n",
    "```\n",
    "\n",
    "Input: s = \"the sky is blue\"\n",
    "Output: \"blue is sky the\"\n",
    "\n",
    "Input: s = \"  hello world  \"\n",
    "Output: \"world hello\"\n",
    "Explanation: Your reversed string should not contain leading or trailing spaces.\n",
    "\n",
    "Input: s = \"a good   example\"\n",
    "Output: \"example good a\"\n",
    "Explanation: You need to reduce multiple spaces between two words to a single space in the reversed string.\n",
    "\n",
    "```\n",
    "\n",
    "**Follow-up:**If the string data type is mutable in your language, can you solve it **in-place** with `O(1)` extra space?\n",
    "\n",
    "---"
   ]
  },
  {
   "cell_type": "markdown",
   "id": "4b260afa",
   "metadata": {},
   "source": [
    "## 📏 Constraints\n",
    "\n",
    "- 1 <= s.length <= 10 4\n",
    "- s contains English letters (upper-case and lower-case), digits, and spaces ' ' .\n",
    "- There is at least one word in s .\n",
    "\n",
    "---"
   ]
  },
  {
   "cell_type": "markdown",
   "id": "179e1f1c",
   "metadata": {},
   "source": [
    "## 💭 My Analysis\n",
    " \n",
    "To reverse the words in a string:\n",
    "\n",
    "- I'll use a **stack** to reverse the word order.\n",
    "- I'll traverse the input string from left to right.\n",
    "- I'll track whether I'm currently **inside a word** using a boolean flag.\n",
    "- When I encounter a non-space character and I'm not currently tracking a word, I’ll **mark the starting index**.\n",
    "- When I hit a space and I was tracking a word, I’ll **mark the end index** and push the substring onto the stack.\n",
    "- At the end of traversal, I’ll also check if the last word needs to be pushed (in case the string doesn't end with space).\n",
    "- Finally, I’ll pop all the words from the stack and **join them with a single space**.\n",
    "\n",
    "This approach naturally skips extra spaces and handles leading/trailing whitespace."
   ]
  },
  {
   "cell_type": "markdown",
   "id": "6fb79531",
   "metadata": {},
   "source": [
    "## 🛠️ Attempt(s)"
   ]
  },
  {
   "cell_type": "code",
   "execution_count": 1,
   "id": "a7181694",
   "metadata": {
    "tags": []
   },
   "outputs": [],
   "source": [
    "class Solution:\n",
    "    def reverseWords(self, s: str) -> str:\n",
    "        stack = []\n",
    "        word = False\n",
    "        substring_start = 0\n",
    "        for i in range(len(s)):\n",
    "            ch = s[i]\n",
    "            if ch != ' ':                # ch != ' '\n",
    "                if word is False:       # ch != ' ', word = False\n",
    "                    substring_start = i\n",
    "                    word = True\n",
    "                else:                   # ch != ' ', word = True\n",
    "                    continue\n",
    "            else:                       # ch = ' '\n",
    "                if word is True:        # ch = ' ', word = True\n",
    "                    stack.append(s.substring(substring_start, i-1))\n",
    "                    substring_start = 0\n",
    "                    word = False\n",
    "                else:                   # ch = ' ', word = False\n",
    "                    continue\n",
    "        result = stack.pop()\n",
    "        while stack:\n",
    "            result += \" \" + stack.pop()\n",
    "        return result\n",
    "                    "
   ]
  },
  {
   "cell_type": "code",
   "execution_count": 2,
   "id": "67791854-fc0a-4f8c-a46f-8d699b80bdcb",
   "metadata": {
    "tags": []
   },
   "outputs": [],
   "source": [
    "class Solution:\n",
    "    def reverseWords(self, s: str) -> str:\n",
    "        stack = []\n",
    "        word = False\n",
    "        substring_start = 0\n",
    "        \n",
    "        for i in range(len(s)):\n",
    "            ch = s[i]\n",
    "            if ch != ' ':\n",
    "                if not word:\n",
    "                    substring_start = i\n",
    "                    word = True\n",
    "            else:\n",
    "                if word:\n",
    "                    stack.append(s[substring_start:i])\n",
    "                    word = False\n",
    "\n",
    "        # Handle the last word (if string ends with non-space)\n",
    "        if word:\n",
    "            stack.append(s[substring_start:])\n",
    "\n",
    "        result = stack.pop() if stack else \"\"\n",
    "        while stack:\n",
    "            result += \" \" + stack.pop()\n",
    "        return result\n"
   ]
  },
  {
   "cell_type": "markdown",
   "id": "1e834eaf",
   "metadata": {},
   "source": [
    "## 🧪 Test Cases"
   ]
  },
  {
   "cell_type": "code",
   "execution_count": 3,
   "id": "8267fbee",
   "metadata": {},
   "outputs": [
    {
     "name": "stdout",
     "output_type": "stream",
     "text": [
      "✅ Test 1 passed | Input: {'s': 'the sky is blue'} → Output: blue is sky the\n",
      "✅ Test 2 passed | Input: {'s': '  hello   world  '} → Output: world hello\n",
      "✅ Test 3 passed | Input: {'s': 'a good   example'} → Output: example good a\n",
      "✅ Test 4 passed | Input: {'s': '  Bob    Loves  Alice   '} → Output: Alice Loves Bob\n",
      "✅ Test 5 passed | Input: {'s': 'Alice does not even like bob'} → Output: bob like even not does Alice\n",
      "✅ Test 6 passed | Input: {'s': '     '} → Output: \n",
      "✅ Test 7 passed | Input: {'s': 'word'} → Output: word\n",
      "🎉 All tests passed!\n"
     ]
    }
   ],
   "source": [
    "def _run_auto_tests(func):\n",
    "    tests = [\n",
    "        ({\"s\": \"the sky is blue\"}, \"blue is sky the\"),\n",
    "        ({\"s\": \"  hello   world  \"}, \"world hello\"),\n",
    "        ({\"s\": \"a good   example\"}, \"example good a\"),\n",
    "        ({\"s\": \"  Bob    Loves  Alice   \"}, \"Alice Loves Bob\"),\n",
    "        ({\"s\": \"Alice does not even like bob\"}, \"bob like even not does Alice\"),\n",
    "        ({\"s\": \"     \"}, \"\"),\n",
    "        ({\"s\": \"word\"}, \"word\"),\n",
    "    ]\n",
    "    all_passed = True\n",
    "    for i, (kw, expected) in enumerate(tests, 1):\n",
    "        try:\n",
    "            result = func(**kw) if isinstance(kw, dict) else func(kw)\n",
    "            if result == expected:\n",
    "                print(f'✅ Test {i} passed | Input: {kw} → Output: {result}')\n",
    "            else:\n",
    "                print(f'❌ Test {i} failed')\n",
    "                print(f'   Input:    {kw}')\n",
    "                print(f'   Expected: {expected}')\n",
    "                print(f'   Got:      {result}')\n",
    "                all_passed = False\n",
    "        except Exception as e:\n",
    "            print(f'❌ Test {i} crashed with exception: {e}')\n",
    "            print(f'   Input: {kw}')\n",
    "            all_passed = False\n",
    "    print('🎉 All tests passed!' if all_passed else '⚠ Some tests failed.')\n",
    "\n",
    "_run_auto_tests(Solution().reverseWords)\n"
   ]
  },
  {
   "cell_type": "markdown",
   "id": "aad3b3b2",
   "metadata": {},
   "source": [
    "## ✅ Final Version"
   ]
  },
  {
   "cell_type": "code",
   "execution_count": 4,
   "id": "da2f24e9",
   "metadata": {},
   "outputs": [],
   "source": [
    "class Solution:\n",
    "    def reverseWords(self, s: str) -> str:\n",
    "        words = s.split()\n",
    "        return ' '.join(reversed(words))"
   ]
  },
  {
   "cell_type": "markdown",
   "id": "1748c93f",
   "metadata": {},
   "source": [
    "## 🧵 Time/Space Complexity\n",
    "\n",
    "- Time: O(n)\n",
    "- Space: O(n)"
   ]
  }
 ],
 "metadata": {
  "kernelspec": {
   "display_name": "Python 3 (ipykernel)",
   "language": "python",
   "name": "python3"
  },
  "language_info": {
   "codemirror_mode": {
    "name": "ipython",
    "version": 3
   },
   "file_extension": ".py",
   "mimetype": "text/x-python",
   "name": "python",
   "nbconvert_exporter": "python",
   "pygments_lexer": "ipython3",
   "version": "3.11.4"
  }
 },
 "nbformat": 4,
 "nbformat_minor": 5
}
